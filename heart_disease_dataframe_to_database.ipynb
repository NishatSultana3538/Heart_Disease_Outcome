{
 "cells": [
  {
   "cell_type": "code",
   "execution_count": 1,
   "metadata": {},
   "outputs": [],
   "source": [
    "# Dependencies and Setup\n",
    "import pandas as pd\n",
    "\n",
    "# File to Load (Remember to change the path if needed.)\n",
    "demographic_data = \"Resources/demographic_data.csv\"\n",
    "behavioural_data = \"Resources/behavioural_data.csv\"\n",
    "disease_correlation_data = \"Resources/other_disease_correlation_data.csv\"\n",
    "\n",
    "# Read the  Data and  store into a Pandas DataFrame\n",
    "demographic_data_df = pd.read_csv(demographic_data)\n",
    "behavioural_health_data_df = pd.read_csv(behavioural_data)\n",
    "disease_correlation_data_df = pd.read_csv(disease_correlation_data)\n",
    "\n",
    "\n",
    "\n"
   ]
  },
  {
   "cell_type": "code",
   "execution_count": 2,
   "metadata": {},
   "outputs": [
    {
     "data": {
      "text/html": [
       "<div>\n",
       "<style scoped>\n",
       "    .dataframe tbody tr th:only-of-type {\n",
       "        vertical-align: middle;\n",
       "    }\n",
       "\n",
       "    .dataframe tbody tr th {\n",
       "        vertical-align: top;\n",
       "    }\n",
       "\n",
       "    .dataframe thead th {\n",
       "        text-align: right;\n",
       "    }\n",
       "</style>\n",
       "<table border=\"1\" class=\"dataframe\">\n",
       "  <thead>\n",
       "    <tr style=\"text-align: right;\">\n",
       "      <th></th>\n",
       "      <th>Patient_ID</th>\n",
       "      <th>HeartDisease</th>\n",
       "      <th>Sex</th>\n",
       "      <th>AgeCategory</th>\n",
       "      <th>Race</th>\n",
       "    </tr>\n",
       "  </thead>\n",
       "  <tbody>\n",
       "    <tr>\n",
       "      <th>0</th>\n",
       "      <td>0</td>\n",
       "      <td>No</td>\n",
       "      <td>Female</td>\n",
       "      <td>55-59</td>\n",
       "      <td>White</td>\n",
       "    </tr>\n",
       "    <tr>\n",
       "      <th>1</th>\n",
       "      <td>1</td>\n",
       "      <td>No</td>\n",
       "      <td>Female</td>\n",
       "      <td>80 or older</td>\n",
       "      <td>White</td>\n",
       "    </tr>\n",
       "    <tr>\n",
       "      <th>2</th>\n",
       "      <td>2</td>\n",
       "      <td>No</td>\n",
       "      <td>Male</td>\n",
       "      <td>65-69</td>\n",
       "      <td>White</td>\n",
       "    </tr>\n",
       "    <tr>\n",
       "      <th>3</th>\n",
       "      <td>3</td>\n",
       "      <td>No</td>\n",
       "      <td>Female</td>\n",
       "      <td>75-79</td>\n",
       "      <td>White</td>\n",
       "    </tr>\n",
       "    <tr>\n",
       "      <th>4</th>\n",
       "      <td>4</td>\n",
       "      <td>No</td>\n",
       "      <td>Female</td>\n",
       "      <td>40-44</td>\n",
       "      <td>White</td>\n",
       "    </tr>\n",
       "  </tbody>\n",
       "</table>\n",
       "</div>"
      ],
      "text/plain": [
       "   Patient_ID HeartDisease     Sex  AgeCategory   Race\n",
       "0           0           No  Female        55-59  White\n",
       "1           1           No  Female  80 or older  White\n",
       "2           2           No    Male        65-69  White\n",
       "3           3           No  Female        75-79  White\n",
       "4           4           No  Female        40-44  White"
      ]
     },
     "execution_count": 2,
     "metadata": {},
     "output_type": "execute_result"
    }
   ],
   "source": [
    "demographic_data_df.head()"
   ]
  },
  {
   "cell_type": "code",
   "execution_count": 3,
   "metadata": {},
   "outputs": [
    {
     "data": {
      "text/html": [
       "<div>\n",
       "<style scoped>\n",
       "    .dataframe tbody tr th:only-of-type {\n",
       "        vertical-align: middle;\n",
       "    }\n",
       "\n",
       "    .dataframe tbody tr th {\n",
       "        vertical-align: top;\n",
       "    }\n",
       "\n",
       "    .dataframe thead th {\n",
       "        text-align: right;\n",
       "    }\n",
       "</style>\n",
       "<table border=\"1\" class=\"dataframe\">\n",
       "  <thead>\n",
       "    <tr style=\"text-align: right;\">\n",
       "      <th></th>\n",
       "      <th>Patient_ID</th>\n",
       "      <th>HeartDisease</th>\n",
       "      <th>BMI</th>\n",
       "      <th>Smoking</th>\n",
       "      <th>AlcoholDrinking</th>\n",
       "      <th>Stroke</th>\n",
       "      <th>PhysicalHealth</th>\n",
       "      <th>MentalHealth</th>\n",
       "      <th>DiffWalking</th>\n",
       "    </tr>\n",
       "  </thead>\n",
       "  <tbody>\n",
       "    <tr>\n",
       "      <th>0</th>\n",
       "      <td>0</td>\n",
       "      <td>No</td>\n",
       "      <td>16.60</td>\n",
       "      <td>Yes</td>\n",
       "      <td>No</td>\n",
       "      <td>No</td>\n",
       "      <td>3.0</td>\n",
       "      <td>30.0</td>\n",
       "      <td>No</td>\n",
       "    </tr>\n",
       "    <tr>\n",
       "      <th>1</th>\n",
       "      <td>1</td>\n",
       "      <td>No</td>\n",
       "      <td>20.34</td>\n",
       "      <td>No</td>\n",
       "      <td>No</td>\n",
       "      <td>Yes</td>\n",
       "      <td>0.0</td>\n",
       "      <td>0.0</td>\n",
       "      <td>No</td>\n",
       "    </tr>\n",
       "    <tr>\n",
       "      <th>2</th>\n",
       "      <td>2</td>\n",
       "      <td>No</td>\n",
       "      <td>26.58</td>\n",
       "      <td>Yes</td>\n",
       "      <td>No</td>\n",
       "      <td>No</td>\n",
       "      <td>20.0</td>\n",
       "      <td>30.0</td>\n",
       "      <td>No</td>\n",
       "    </tr>\n",
       "    <tr>\n",
       "      <th>3</th>\n",
       "      <td>3</td>\n",
       "      <td>No</td>\n",
       "      <td>24.21</td>\n",
       "      <td>No</td>\n",
       "      <td>No</td>\n",
       "      <td>No</td>\n",
       "      <td>0.0</td>\n",
       "      <td>0.0</td>\n",
       "      <td>No</td>\n",
       "    </tr>\n",
       "    <tr>\n",
       "      <th>4</th>\n",
       "      <td>4</td>\n",
       "      <td>No</td>\n",
       "      <td>23.71</td>\n",
       "      <td>No</td>\n",
       "      <td>No</td>\n",
       "      <td>No</td>\n",
       "      <td>28.0</td>\n",
       "      <td>0.0</td>\n",
       "      <td>Yes</td>\n",
       "    </tr>\n",
       "  </tbody>\n",
       "</table>\n",
       "</div>"
      ],
      "text/plain": [
       "   Patient_ID HeartDisease    BMI Smoking AlcoholDrinking Stroke  \\\n",
       "0           0           No  16.60     Yes              No     No   \n",
       "1           1           No  20.34      No              No    Yes   \n",
       "2           2           No  26.58     Yes              No     No   \n",
       "3           3           No  24.21      No              No     No   \n",
       "4           4           No  23.71      No              No     No   \n",
       "\n",
       "   PhysicalHealth  MentalHealth DiffWalking  \n",
       "0             3.0          30.0          No  \n",
       "1             0.0           0.0          No  \n",
       "2            20.0          30.0          No  \n",
       "3             0.0           0.0          No  \n",
       "4            28.0           0.0         Yes  "
      ]
     },
     "execution_count": 3,
     "metadata": {},
     "output_type": "execute_result"
    }
   ],
   "source": [
    "behavioural_health_data_df.head()"
   ]
  },
  {
   "cell_type": "code",
   "execution_count": 4,
   "metadata": {},
   "outputs": [
    {
     "data": {
      "text/html": [
       "<div>\n",
       "<style scoped>\n",
       "    .dataframe tbody tr th:only-of-type {\n",
       "        vertical-align: middle;\n",
       "    }\n",
       "\n",
       "    .dataframe tbody tr th {\n",
       "        vertical-align: top;\n",
       "    }\n",
       "\n",
       "    .dataframe thead th {\n",
       "        text-align: right;\n",
       "    }\n",
       "</style>\n",
       "<table border=\"1\" class=\"dataframe\">\n",
       "  <thead>\n",
       "    <tr style=\"text-align: right;\">\n",
       "      <th></th>\n",
       "      <th>Patient_ID</th>\n",
       "      <th>Diabetic</th>\n",
       "      <th>PhysicalActivity</th>\n",
       "      <th>GenHealth</th>\n",
       "      <th>SleepTime</th>\n",
       "      <th>Asthma</th>\n",
       "      <th>KidneyDisease</th>\n",
       "      <th>SkinCancer</th>\n",
       "    </tr>\n",
       "  </thead>\n",
       "  <tbody>\n",
       "    <tr>\n",
       "      <th>0</th>\n",
       "      <td>0</td>\n",
       "      <td>Yes</td>\n",
       "      <td>Yes</td>\n",
       "      <td>Very good</td>\n",
       "      <td>5.0</td>\n",
       "      <td>Yes</td>\n",
       "      <td>No</td>\n",
       "      <td>Yes</td>\n",
       "    </tr>\n",
       "    <tr>\n",
       "      <th>1</th>\n",
       "      <td>1</td>\n",
       "      <td>No</td>\n",
       "      <td>Yes</td>\n",
       "      <td>Very good</td>\n",
       "      <td>7.0</td>\n",
       "      <td>No</td>\n",
       "      <td>No</td>\n",
       "      <td>No</td>\n",
       "    </tr>\n",
       "    <tr>\n",
       "      <th>2</th>\n",
       "      <td>2</td>\n",
       "      <td>Yes</td>\n",
       "      <td>Yes</td>\n",
       "      <td>Fair</td>\n",
       "      <td>8.0</td>\n",
       "      <td>Yes</td>\n",
       "      <td>No</td>\n",
       "      <td>No</td>\n",
       "    </tr>\n",
       "    <tr>\n",
       "      <th>3</th>\n",
       "      <td>3</td>\n",
       "      <td>No</td>\n",
       "      <td>No</td>\n",
       "      <td>Good</td>\n",
       "      <td>6.0</td>\n",
       "      <td>No</td>\n",
       "      <td>No</td>\n",
       "      <td>Yes</td>\n",
       "    </tr>\n",
       "    <tr>\n",
       "      <th>4</th>\n",
       "      <td>4</td>\n",
       "      <td>No</td>\n",
       "      <td>Yes</td>\n",
       "      <td>Very good</td>\n",
       "      <td>8.0</td>\n",
       "      <td>No</td>\n",
       "      <td>No</td>\n",
       "      <td>No</td>\n",
       "    </tr>\n",
       "  </tbody>\n",
       "</table>\n",
       "</div>"
      ],
      "text/plain": [
       "   Patient_ID Diabetic PhysicalActivity  GenHealth  SleepTime Asthma  \\\n",
       "0           0      Yes              Yes  Very good        5.0    Yes   \n",
       "1           1       No              Yes  Very good        7.0     No   \n",
       "2           2      Yes              Yes       Fair        8.0    Yes   \n",
       "3           3       No               No       Good        6.0     No   \n",
       "4           4       No              Yes  Very good        8.0     No   \n",
       "\n",
       "  KidneyDisease SkinCancer  \n",
       "0            No        Yes  \n",
       "1            No         No  \n",
       "2            No         No  \n",
       "3            No        Yes  \n",
       "4            No         No  "
      ]
     },
     "execution_count": 4,
     "metadata": {},
     "output_type": "execute_result"
    }
   ],
   "source": [
    "disease_correlation_data_df.head()"
   ]
  },
  {
   "cell_type": "code",
   "execution_count": 5,
   "metadata": {},
   "outputs": [
    {
     "data": {
      "text/plain": [
       "['Patient_ID',\n",
       " 'Diabetic',\n",
       " 'PhysicalActivity',\n",
       " 'GenHealth',\n",
       " 'SleepTime',\n",
       " 'Asthma',\n",
       " 'KidneyDisease',\n",
       " 'SkinCancer']"
      ]
     },
     "execution_count": 5,
     "metadata": {},
     "output_type": "execute_result"
    }
   ],
   "source": [
    "list(disease_correlation_data_df)"
   ]
  },
  {
   "cell_type": "code",
   "execution_count": 6,
   "metadata": {},
   "outputs": [
    {
     "data": {
      "text/plain": [
       "['Patient_ID',\n",
       " 'HeartDisease',\n",
       " 'BMI',\n",
       " 'Smoking',\n",
       " 'AlcoholDrinking',\n",
       " 'Stroke',\n",
       " 'PhysicalHealth',\n",
       " 'MentalHealth',\n",
       " 'DiffWalking']"
      ]
     },
     "execution_count": 6,
     "metadata": {},
     "output_type": "execute_result"
    }
   ],
   "source": [
    "list(behavioural_health_data_df)"
   ]
  },
  {
   "cell_type": "code",
   "execution_count": 7,
   "metadata": {},
   "outputs": [
    {
     "data": {
      "text/plain": [
       "['Patient_ID', 'HeartDisease', 'Sex', 'AgeCategory', 'Race']"
      ]
     },
     "execution_count": 7,
     "metadata": {},
     "output_type": "execute_result"
    }
   ],
   "source": [
    "list(demographic_data_df)"
   ]
  },
  {
   "cell_type": "code",
   "execution_count": null,
   "metadata": {},
   "outputs": [],
   "source": []
  },
  {
   "cell_type": "code",
   "execution_count": 8,
   "metadata": {},
   "outputs": [],
   "source": [
    "#heart_disease_demographic_data_df.to_sql('Resources/demographic_data.sqlite', index = False, con=engine)"
   ]
  },
  {
   "cell_type": "code",
   "execution_count": 9,
   "metadata": {},
   "outputs": [],
   "source": [
    "# Create our session (link) from Python to the DB\n",
    "#session = Session(engine)"
   ]
  },
  {
   "cell_type": "code",
   "execution_count": 10,
   "metadata": {},
   "outputs": [],
   "source": [
    "# Dependencies\n",
    "import numpy as np\n",
    "import pandas as pd\n",
    "\n",
    "# Python SQL toolkit and Object Relational Mapper\n",
    "import sqlalchemy\n",
    "from sqlalchemy.ext.automap import automap_base\n",
    "from sqlalchemy.orm import Session\n",
    "from sqlalchemy import create_engine, func\n",
    "\n",
    "%matplotlib inline\n",
    "from matplotlib import style\n",
    "style.use('fivethirtyeight')\n",
    "import matplotlib.pyplot as plt\n",
    "\n",
    "import numpy as np\n",
    "import pandas as pd\n",
    "\n",
    "import datetime as dt"
   ]
  },
  {
   "cell_type": "code",
   "execution_count": null,
   "metadata": {},
   "outputs": [],
   "source": []
  },
  {
   "cell_type": "code",
   "execution_count": null,
   "metadata": {},
   "outputs": [],
   "source": []
  },
  {
   "cell_type": "code",
   "execution_count": 11,
   "metadata": {},
   "outputs": [],
   "source": [
    "#engine = create_engine(\"sqlite:///demographic_darta.sqlite\")\n",
    "#\"sqlite:///hawaii.sqlite\""
   ]
  },
  {
   "cell_type": "code",
   "execution_count": 12,
   "metadata": {},
   "outputs": [],
   "source": [
    "# reflect an existing database into a new model\n",
    "#Base = automap_base()\n",
    "# reflect the tables\n",
    "#Base.prepare(engine, reflect=True)\n",
    "\n",
    "# Save references to each table\n",
    "#Measurement = Base.classes.measurement\n",
    "#Station = Base.classes.station\n",
    "\n",
    "# Create our session (link) from Python to the DB\n",
    "#session = Session(engine)\n",
    "\n",
    "# 1. Import the sqlalchemy extract function.\n",
    "#from sqlalchemy import extract"
   ]
  },
  {
   "cell_type": "code",
   "execution_count": 13,
   "metadata": {},
   "outputs": [],
   "source": [
    "#from sqlalchemy import create_engine\n",
    "#engine = create_engine('sqlite://', echo=False)\n",
    "\n",
    "#column=[['Patient_ID', 'HeartDisease', 'Sex', 'AgeCategory', 'Race']]\n",
    "#heart_disease_demographic_data_df.to_sql('heart_disease_demographic_data_df', con=engine)\n",
    "\n",
    "#df1.to_sql('users', con=engine, if_exists='append')\n",
    "#engine.execute(\"SELECT * FROM users\").fetchall()"
   ]
  },
  {
   "cell_type": "code",
   "execution_count": 14,
   "metadata": {},
   "outputs": [],
   "source": [
    "#import pandas as pd\n",
    "#import sqlite3\n",
    "\n",
    "# Read sqlite query results into a pandas DataFrame\n",
    "#con = sqlite3.connect(\"demographic_data.sqlite\")\n",
    "#df = pd.read_sql_query(\"SELECT * from demographic_data\", con)\n",
    "\n",
    "# Verify that result of SQL query is stored in the dataframe\n",
    "#print(df.head())\n",
    "\n",
    "#con.close()\n"
   ]
  },
  {
   "cell_type": "code",
   "execution_count": 15,
   "metadata": {},
   "outputs": [],
   "source": [
    "#con=sqlite3.connect(\"demographic_data.sqlite\")\n"
   ]
  },
  {
   "cell_type": "code",
   "execution_count": 16,
   "metadata": {},
   "outputs": [],
   "source": [
    "# Load the data into a DataFrame\n",
    "#query_df = pd.read_sql_query(\"SELECT * from demographic_data\", con)"
   ]
  },
  {
   "cell_type": "code",
   "execution_count": 17,
   "metadata": {},
   "outputs": [],
   "source": [
    "#engine.execute(\"SELECT * demographic_data.sqlite\")"
   ]
  },
  {
   "cell_type": "code",
   "execution_count": 18,
   "metadata": {},
   "outputs": [],
   "source": [
    "#heart_disease_demographic_data_sql_df = pd.read_sql('sqlite:demographic_data.sqlite', con=engine)"
   ]
  },
  {
   "cell_type": "code",
   "execution_count": 19,
   "metadata": {},
   "outputs": [
    {
     "name": "stdout",
     "output_type": "stream",
     "text": [
      "Table created successfully........\n"
     ]
    }
   ],
   "source": [
    "import sqlite3\n",
    "\n",
    "#Connecting to sqlite\n",
    "conn = sqlite3.connect('heart_disease.db')\n",
    "\n",
    "#Creating a cursor object using the cursor() method\n",
    "cursor = conn.cursor()\n",
    "\n",
    "#Doping EMPLOYEE table if already exists.\n",
    "cursor.execute(\"DROP TABLE IF EXISTS demographic_data\")\n",
    "\n",
    "#Creating table as per requirement\n",
    "sql ='''CREATE TABLE \"demographic_data\" (\n",
    "    \"Patient_ID\" int   NOT NULL,\n",
    "    \"HeartDisease\" varchar   NOT NULL,\n",
    "    \"Sex\" varchar   NOT NULL,\n",
    "    \"AgeCategory\" varchar   NOT NULL,\n",
    "    \"Race\" varchar   NOT NULL,\n",
    "    CONSTRAINT \"pk_demographic\" PRIMARY KEY (\n",
    "        \"Patient_ID\"\n",
    "     )\n",
    ");'''\n",
    "cursor.execute(sql)\n",
    "print(\"Table created successfully........\")\n",
    "\n",
    "# Commit your changes in the database\n",
    "conn.commit()\n",
    "\n",
    "#Closing the connection\n",
    "conn.close()\n"
   ]
  },
  {
   "cell_type": "code",
   "execution_count": 20,
   "metadata": {},
   "outputs": [
    {
     "name": "stdout",
     "output_type": "stream",
     "text": [
      "Table created successfully........\n"
     ]
    }
   ],
   "source": [
    "import sqlite3\n",
    "\n",
    "#Connecting to sqlite\n",
    "conn = sqlite3.connect('heart_disease.db')\n",
    "\n",
    "#Creating a cursor object using the cursor() method\n",
    "cursor = conn.cursor()\n",
    "\n",
    "#Doping EMPLOYEE table if already exists.\n",
    "cursor.execute(\"DROP TABLE IF EXISTS behavioural_data\")\n",
    "\n",
    "#Creating table as per requirement\n",
    "sql ='''CREATE TABLE \"behavioural_data\" (\n",
    "    \"Patient_ID\" int   NOT NULL,\n",
    "    \"HeartDisease\" varchar   NOT NULL,\n",
    "    \"BMI\" int   NOT NULL,\n",
    "    \"Smoking\" varchar   NOT NULL,\n",
    "    \"AlcoholDrinking\" varchar   NOT NULL,\n",
    "    \"Stroke\" varchar   NOT NULL,\n",
    "    \"PhysicalHealth\" int   NOT NULL,\n",
    "    \"MentalHealth\" int   NOT NULL,\n",
    "    \"DiffWalking\" varchar   NOT NULL,\n",
    "    CONSTRAINT \"pk_behavioural_data\" PRIMARY KEY (\n",
    "        \"Patient_ID\",\"HeartDisease\"\n",
    "     )\n",
    ");'''\n",
    "#cursor.execute(sql)\n",
    "print(\"Table created successfully........\")\n",
    "\n",
    "# Commit your changes in the database\n",
    "conn.commit()\n",
    "\n",
    "#Closing the connection\n",
    "conn.close()\n"
   ]
  },
  {
   "cell_type": "code",
   "execution_count": 21,
   "metadata": {},
   "outputs": [
    {
     "name": "stdout",
     "output_type": "stream",
     "text": [
      "Table created successfully........\n"
     ]
    }
   ],
   "source": [
    "import sqlite3\n",
    "\n",
    "#Connecting to sqlite\n",
    "conn = sqlite3.connect('heart_disease.db')\n",
    "\n",
    "#Creating a cursor object using the cursor() method\n",
    "cursor = conn.cursor()\n",
    "\n",
    "#Doping EMPLOYEE table if already exists.\n",
    "cursor.execute(\"DROP TABLE IF EXISTS disease_correlation\")\n",
    "\n",
    "#Creating table as per requirement\n",
    "sql ='''CREATE TABLE \"disease_correlation\" (\n",
    "    \"Patient_ID\" int   NOT NULL,\n",
    "    \"Diabetic\" varchar   NOT NULL,\n",
    "    \"PhysicalActivity\" varchar   NOT NULL,\n",
    "    \"GenHealth\" varchar   NOT NULL,\n",
    "    \"SleepTime\" int   NOT NULL,\n",
    "    \"Asthma\" varchar   NOT NULL,\n",
    "    \"KidneyDisease\" varchar   NOT NULL,\n",
    "    \"SkinCancer\" varchar   NOT NULL,\n",
    "    CONSTRAINT \"pk_Disease_correlation\" PRIMARY KEY (\n",
    "        \"Patient_ID\"\n",
    "     )\n",
    ");'''\n",
    "cursor.execute(sql)\n",
    "print(\"Table created successfully........\")\n",
    "\n",
    "# Commit your changes in the database\n",
    "conn.commit()\n",
    "\n",
    "#Closing the connection\n",
    "conn.close()\n",
    "\n"
   ]
  },
  {
   "cell_type": "code",
   "execution_count": 23,
   "metadata": {},
   "outputs": [],
   "source": [
    "engine = create_engine(\"sqlite:///heart_disease.db\")\n",
    "Base = automap_base()\n",
    "Base = automap_base()\n",
    "Base.prepare(engine, reflect=True)"
   ]
  },
  {
   "cell_type": "code",
   "execution_count": 24,
   "metadata": {},
   "outputs": [],
   "source": [
    "demographic_data_df.to_sql('demographic_data', con = engine, if_exists = 'append', index=False, chunksize = 1000)\n",
    "behavioural_health_data_df.to_sql('behavioural_data', con = engine, if_exists = 'append', index=False, chunksize = 1000)\n",
    "disease_correlation_data_df.to_sql('disease_correlation', con = engine, if_exists = 'append', index=False, chunksize = 1000)\n"
   ]
  },
  {
   "cell_type": "code",
   "execution_count": 25,
   "metadata": {},
   "outputs": [
    {
     "data": {
      "text/plain": [
       "['demographic', 'demographic_data', 'disease_correlation']"
      ]
     },
     "execution_count": 25,
     "metadata": {},
     "output_type": "execute_result"
    }
   ],
   "source": [
    "# We can view all of the classes that automap found\n",
    "Base.classes.keys()"
   ]
  },
  {
   "cell_type": "code",
   "execution_count": 26,
   "metadata": {},
   "outputs": [],
   "source": [
    "# Save references to each table\n",
    "demographic_data = Base.classes.demographic_data\n",
    "disease_correlation = Base.classes.disease_correlation\n",
    "\n",
    "\n",
    "\n",
    "\n"
   ]
  },
  {
   "cell_type": "code",
   "execution_count": 27,
   "metadata": {},
   "outputs": [],
   "source": [
    "# Create our session (link) from Python to the DB\n",
    "session = Session(engine)"
   ]
  },
  {
   "cell_type": "code",
   "execution_count": 28,
   "metadata": {},
   "outputs": [],
   "source": [
    "# 1. Import the sqlalchemy extract function.\n",
    "from sqlalchemy import extract"
   ]
  },
  {
   "cell_type": "markdown",
   "metadata": {},
   "source": [
    "June_df = pd.DataFrame(June_query, columns=['date','temperature'])\n",
    "June_df.set_index(June_df['date'], inplace=True)"
   ]
  },
  {
   "cell_type": "code",
   "execution_count": 29,
   "metadata": {},
   "outputs": [],
   "source": [
    "# 2. Write a query that filters the Measurement table to retrieve the temperatures for the month of June. \n",
    "race_query=session.query(demographic_data.Sex, demographic_data.Race)\n",
    "disease_query=session.query(disease_correlation.Patient_ID, disease_correlation.Diabetic, disease_correlation.Asthma, disease_correlation.SkinCancer)\n",
    "#.filter(extract([Sex==Female],Race=White)"
   ]
  },
  {
   "cell_type": "code",
   "execution_count": 30,
   "metadata": {},
   "outputs": [
    {
     "data": {
      "text/html": [
       "<div>\n",
       "<style scoped>\n",
       "    .dataframe tbody tr th:only-of-type {\n",
       "        vertical-align: middle;\n",
       "    }\n",
       "\n",
       "    .dataframe tbody tr th {\n",
       "        vertical-align: top;\n",
       "    }\n",
       "\n",
       "    .dataframe thead th {\n",
       "        text-align: right;\n",
       "    }\n",
       "</style>\n",
       "<table border=\"1\" class=\"dataframe\">\n",
       "  <thead>\n",
       "    <tr style=\"text-align: right;\">\n",
       "      <th></th>\n",
       "      <th>Sex</th>\n",
       "      <th>Race</th>\n",
       "    </tr>\n",
       "  </thead>\n",
       "  <tbody>\n",
       "    <tr>\n",
       "      <th>0</th>\n",
       "      <td>Female</td>\n",
       "      <td>White</td>\n",
       "    </tr>\n",
       "    <tr>\n",
       "      <th>1</th>\n",
       "      <td>Female</td>\n",
       "      <td>White</td>\n",
       "    </tr>\n",
       "    <tr>\n",
       "      <th>2</th>\n",
       "      <td>Male</td>\n",
       "      <td>White</td>\n",
       "    </tr>\n",
       "    <tr>\n",
       "      <th>3</th>\n",
       "      <td>Female</td>\n",
       "      <td>White</td>\n",
       "    </tr>\n",
       "    <tr>\n",
       "      <th>4</th>\n",
       "      <td>Female</td>\n",
       "      <td>White</td>\n",
       "    </tr>\n",
       "  </tbody>\n",
       "</table>\n",
       "</div>"
      ],
      "text/plain": [
       "      Sex   Race\n",
       "0  Female  White\n",
       "1  Female  White\n",
       "2    Male  White\n",
       "3  Female  White\n",
       "4  Female  White"
      ]
     },
     "execution_count": 30,
     "metadata": {},
     "output_type": "execute_result"
    }
   ],
   "source": [
    "race_df = pd.DataFrame(race_query, columns=['Sex','Race'])\n",
    "disease_df = pd.DataFrame(disease_query, columns=['Patient_ID', 'Diabetic', 'Asthma','SkinCancer'])\n",
    "#June_df.set_index(June_df['date'], inplace=True)\n",
    "race_df.head()"
   ]
  },
  {
   "cell_type": "code",
   "execution_count": 31,
   "metadata": {},
   "outputs": [
    {
     "data": {
      "text/html": [
       "<div>\n",
       "<style scoped>\n",
       "    .dataframe tbody tr th:only-of-type {\n",
       "        vertical-align: middle;\n",
       "    }\n",
       "\n",
       "    .dataframe tbody tr th {\n",
       "        vertical-align: top;\n",
       "    }\n",
       "\n",
       "    .dataframe thead th {\n",
       "        text-align: right;\n",
       "    }\n",
       "</style>\n",
       "<table border=\"1\" class=\"dataframe\">\n",
       "  <thead>\n",
       "    <tr style=\"text-align: right;\">\n",
       "      <th></th>\n",
       "      <th>Patient_ID</th>\n",
       "      <th>Diabetic</th>\n",
       "      <th>Asthma</th>\n",
       "      <th>SkinCancer</th>\n",
       "    </tr>\n",
       "  </thead>\n",
       "  <tbody>\n",
       "    <tr>\n",
       "      <th>0</th>\n",
       "      <td>0</td>\n",
       "      <td>Yes</td>\n",
       "      <td>Yes</td>\n",
       "      <td>Yes</td>\n",
       "    </tr>\n",
       "    <tr>\n",
       "      <th>1</th>\n",
       "      <td>1</td>\n",
       "      <td>No</td>\n",
       "      <td>No</td>\n",
       "      <td>No</td>\n",
       "    </tr>\n",
       "    <tr>\n",
       "      <th>2</th>\n",
       "      <td>2</td>\n",
       "      <td>Yes</td>\n",
       "      <td>Yes</td>\n",
       "      <td>No</td>\n",
       "    </tr>\n",
       "    <tr>\n",
       "      <th>3</th>\n",
       "      <td>3</td>\n",
       "      <td>No</td>\n",
       "      <td>No</td>\n",
       "      <td>Yes</td>\n",
       "    </tr>\n",
       "    <tr>\n",
       "      <th>4</th>\n",
       "      <td>4</td>\n",
       "      <td>No</td>\n",
       "      <td>No</td>\n",
       "      <td>No</td>\n",
       "    </tr>\n",
       "  </tbody>\n",
       "</table>\n",
       "</div>"
      ],
      "text/plain": [
       "   Patient_ID Diabetic Asthma SkinCancer\n",
       "0           0      Yes    Yes        Yes\n",
       "1           1       No     No         No\n",
       "2           2      Yes    Yes         No\n",
       "3           3       No     No        Yes\n",
       "4           4       No     No         No"
      ]
     },
     "execution_count": 31,
     "metadata": {},
     "output_type": "execute_result"
    }
   ],
   "source": [
    "disease_df.head()"
   ]
  },
  {
   "cell_type": "code",
   "execution_count": 32,
   "metadata": {},
   "outputs": [
    {
     "data": {
      "text/plain": [
       "<bound method NDFrame.describe of            Sex      Race\n",
       "0       Female     White\n",
       "1       Female     White\n",
       "2         Male     White\n",
       "3       Female     White\n",
       "4       Female     White\n",
       "...        ...       ...\n",
       "319790    Male  Hispanic\n",
       "319791    Male  Hispanic\n",
       "319792  Female  Hispanic\n",
       "319793  Female  Hispanic\n",
       "319794  Female  Hispanic\n",
       "\n",
       "[319795 rows x 2 columns]>"
      ]
     },
     "execution_count": 32,
     "metadata": {},
     "output_type": "execute_result"
    }
   ],
   "source": [
    "race_df.describe"
   ]
  },
  {
   "cell_type": "code",
   "execution_count": 33,
   "metadata": {},
   "outputs": [
    {
     "data": {
      "text/plain": [
       "<bound method NDFrame.describe of         Patient_ID Diabetic Asthma SkinCancer\n",
       "0                0      Yes    Yes        Yes\n",
       "1                1       No     No         No\n",
       "2                2      Yes    Yes         No\n",
       "3                3       No     No        Yes\n",
       "4                4       No     No         No\n",
       "...            ...      ...    ...        ...\n",
       "319790      319790      Yes    Yes         No\n",
       "319791      319791       No    Yes         No\n",
       "319792      319792       No     No         No\n",
       "319793      319793       No     No         No\n",
       "319794      319794       No     No         No\n",
       "\n",
       "[319795 rows x 4 columns]>"
      ]
     },
     "execution_count": 33,
     "metadata": {},
     "output_type": "execute_result"
    }
   ],
   "source": [
    "disease_df.describe"
   ]
  },
  {
   "cell_type": "code",
   "execution_count": 34,
   "metadata": {},
   "outputs": [
    {
     "data": {
      "text/plain": [
       "['demographic', 'demographic_data', 'disease_correlation']"
      ]
     },
     "execution_count": 34,
     "metadata": {},
     "output_type": "execute_result"
    }
   ],
   "source": [
    "# We can view all of the classes that automap found\n",
    "Base.classes.keys()"
   ]
  },
  {
   "cell_type": "code",
   "execution_count": 35,
   "metadata": {},
   "outputs": [
    {
     "name": "stdout",
     "output_type": "stream",
     "text": [
      "dataframe created successfully........\n"
     ]
    }
   ],
   "source": [
    "import sqlite3\n",
    "\n",
    "#Connecting to sqlite\n",
    "conn = sqlite3.connect('heart_disease.db')\n",
    "\n",
    "#Creating a cursor object using the cursor() method\n",
    "cursor = conn.cursor()\n",
    "\n",
    "# Load the data into a DataFrame\n",
    "demographic_data_query_df = pd.read_sql_query(\"SELECT * from demographic_data\", con=engine)\n",
    "#cursor.execute(sql)\n",
    "print(\"dataframe created successfully........\")\n",
    "\n",
    "# Commit your changes in the database\n",
    "conn.commit()\n",
    "\n",
    "#Closing the connection\n",
    "conn.close()\n",
    "\n"
   ]
  },
  {
   "cell_type": "code",
   "execution_count": 36,
   "metadata": {},
   "outputs": [
    {
     "data": {
      "text/html": [
       "<div>\n",
       "<style scoped>\n",
       "    .dataframe tbody tr th:only-of-type {\n",
       "        vertical-align: middle;\n",
       "    }\n",
       "\n",
       "    .dataframe tbody tr th {\n",
       "        vertical-align: top;\n",
       "    }\n",
       "\n",
       "    .dataframe thead th {\n",
       "        text-align: right;\n",
       "    }\n",
       "</style>\n",
       "<table border=\"1\" class=\"dataframe\">\n",
       "  <thead>\n",
       "    <tr style=\"text-align: right;\">\n",
       "      <th></th>\n",
       "      <th>Patient_ID</th>\n",
       "      <th>HeartDisease</th>\n",
       "      <th>Sex</th>\n",
       "      <th>AgeCategory</th>\n",
       "      <th>Race</th>\n",
       "    </tr>\n",
       "  </thead>\n",
       "  <tbody>\n",
       "    <tr>\n",
       "      <th>0</th>\n",
       "      <td>0</td>\n",
       "      <td>No</td>\n",
       "      <td>Female</td>\n",
       "      <td>55-59</td>\n",
       "      <td>White</td>\n",
       "    </tr>\n",
       "    <tr>\n",
       "      <th>1</th>\n",
       "      <td>1</td>\n",
       "      <td>No</td>\n",
       "      <td>Female</td>\n",
       "      <td>80 or older</td>\n",
       "      <td>White</td>\n",
       "    </tr>\n",
       "    <tr>\n",
       "      <th>2</th>\n",
       "      <td>2</td>\n",
       "      <td>No</td>\n",
       "      <td>Male</td>\n",
       "      <td>65-69</td>\n",
       "      <td>White</td>\n",
       "    </tr>\n",
       "    <tr>\n",
       "      <th>3</th>\n",
       "      <td>3</td>\n",
       "      <td>No</td>\n",
       "      <td>Female</td>\n",
       "      <td>75-79</td>\n",
       "      <td>White</td>\n",
       "    </tr>\n",
       "    <tr>\n",
       "      <th>4</th>\n",
       "      <td>4</td>\n",
       "      <td>No</td>\n",
       "      <td>Female</td>\n",
       "      <td>40-44</td>\n",
       "      <td>White</td>\n",
       "    </tr>\n",
       "    <tr>\n",
       "      <th>5</th>\n",
       "      <td>5</td>\n",
       "      <td>Yes</td>\n",
       "      <td>Female</td>\n",
       "      <td>75-79</td>\n",
       "      <td>Black</td>\n",
       "    </tr>\n",
       "    <tr>\n",
       "      <th>6</th>\n",
       "      <td>6</td>\n",
       "      <td>No</td>\n",
       "      <td>Female</td>\n",
       "      <td>70-74</td>\n",
       "      <td>White</td>\n",
       "    </tr>\n",
       "    <tr>\n",
       "      <th>7</th>\n",
       "      <td>7</td>\n",
       "      <td>No</td>\n",
       "      <td>Female</td>\n",
       "      <td>80 or older</td>\n",
       "      <td>White</td>\n",
       "    </tr>\n",
       "    <tr>\n",
       "      <th>8</th>\n",
       "      <td>8</td>\n",
       "      <td>No</td>\n",
       "      <td>Female</td>\n",
       "      <td>80 or older</td>\n",
       "      <td>White</td>\n",
       "    </tr>\n",
       "    <tr>\n",
       "      <th>9</th>\n",
       "      <td>9</td>\n",
       "      <td>No</td>\n",
       "      <td>Male</td>\n",
       "      <td>65-69</td>\n",
       "      <td>White</td>\n",
       "    </tr>\n",
       "  </tbody>\n",
       "</table>\n",
       "</div>"
      ],
      "text/plain": [
       "   Patient_ID HeartDisease     Sex  AgeCategory   Race\n",
       "0           0           No  Female        55-59  White\n",
       "1           1           No  Female  80 or older  White\n",
       "2           2           No    Male        65-69  White\n",
       "3           3           No  Female        75-79  White\n",
       "4           4           No  Female        40-44  White\n",
       "5           5          Yes  Female        75-79  Black\n",
       "6           6           No  Female        70-74  White\n",
       "7           7           No  Female  80 or older  White\n",
       "8           8           No  Female  80 or older  White\n",
       "9           9           No    Male        65-69  White"
      ]
     },
     "execution_count": 36,
     "metadata": {},
     "output_type": "execute_result"
    }
   ],
   "source": [
    "demographic_data_query_df.head(10)"
   ]
  },
  {
   "cell_type": "code",
   "execution_count": 37,
   "metadata": {},
   "outputs": [
    {
     "name": "stdout",
     "output_type": "stream",
     "text": [
      "dataframe created successfully........\n"
     ]
    }
   ],
   "source": [
    "import sqlite3\n",
    "\n",
    "#Connecting to sqlite\n",
    "conn = sqlite3.connect('heart_disease.db')\n",
    "\n",
    "#Creating a cursor object using the cursor() method\n",
    "cursor = conn.cursor()\n",
    "\n",
    "# Load the data into a DataFrame\n",
    "behavioural_data_query_df = pd.read_sql_query(\"SELECT * from behavioural_data\", con=engine)\n",
    "#cursor.execute(sql)\n",
    "print(\"dataframe created successfully........\")\n",
    "\n",
    "# Commit your changes in the database\n",
    "conn.commit()\n",
    "\n",
    "#Closing the connection\n",
    "conn.close()\n",
    "\n"
   ]
  },
  {
   "cell_type": "code",
   "execution_count": 38,
   "metadata": {},
   "outputs": [
    {
     "data": {
      "text/html": [
       "<div>\n",
       "<style scoped>\n",
       "    .dataframe tbody tr th:only-of-type {\n",
       "        vertical-align: middle;\n",
       "    }\n",
       "\n",
       "    .dataframe tbody tr th {\n",
       "        vertical-align: top;\n",
       "    }\n",
       "\n",
       "    .dataframe thead th {\n",
       "        text-align: right;\n",
       "    }\n",
       "</style>\n",
       "<table border=\"1\" class=\"dataframe\">\n",
       "  <thead>\n",
       "    <tr style=\"text-align: right;\">\n",
       "      <th></th>\n",
       "      <th>Patient_ID</th>\n",
       "      <th>HeartDisease</th>\n",
       "      <th>BMI</th>\n",
       "      <th>Smoking</th>\n",
       "      <th>AlcoholDrinking</th>\n",
       "      <th>Stroke</th>\n",
       "      <th>PhysicalHealth</th>\n",
       "      <th>MentalHealth</th>\n",
       "      <th>DiffWalking</th>\n",
       "    </tr>\n",
       "  </thead>\n",
       "  <tbody>\n",
       "    <tr>\n",
       "      <th>0</th>\n",
       "      <td>0</td>\n",
       "      <td>No</td>\n",
       "      <td>16.60</td>\n",
       "      <td>Yes</td>\n",
       "      <td>No</td>\n",
       "      <td>No</td>\n",
       "      <td>3.0</td>\n",
       "      <td>30.0</td>\n",
       "      <td>No</td>\n",
       "    </tr>\n",
       "    <tr>\n",
       "      <th>1</th>\n",
       "      <td>1</td>\n",
       "      <td>No</td>\n",
       "      <td>20.34</td>\n",
       "      <td>No</td>\n",
       "      <td>No</td>\n",
       "      <td>Yes</td>\n",
       "      <td>0.0</td>\n",
       "      <td>0.0</td>\n",
       "      <td>No</td>\n",
       "    </tr>\n",
       "    <tr>\n",
       "      <th>2</th>\n",
       "      <td>2</td>\n",
       "      <td>No</td>\n",
       "      <td>26.58</td>\n",
       "      <td>Yes</td>\n",
       "      <td>No</td>\n",
       "      <td>No</td>\n",
       "      <td>20.0</td>\n",
       "      <td>30.0</td>\n",
       "      <td>No</td>\n",
       "    </tr>\n",
       "    <tr>\n",
       "      <th>3</th>\n",
       "      <td>3</td>\n",
       "      <td>No</td>\n",
       "      <td>24.21</td>\n",
       "      <td>No</td>\n",
       "      <td>No</td>\n",
       "      <td>No</td>\n",
       "      <td>0.0</td>\n",
       "      <td>0.0</td>\n",
       "      <td>No</td>\n",
       "    </tr>\n",
       "    <tr>\n",
       "      <th>4</th>\n",
       "      <td>4</td>\n",
       "      <td>No</td>\n",
       "      <td>23.71</td>\n",
       "      <td>No</td>\n",
       "      <td>No</td>\n",
       "      <td>No</td>\n",
       "      <td>28.0</td>\n",
       "      <td>0.0</td>\n",
       "      <td>Yes</td>\n",
       "    </tr>\n",
       "  </tbody>\n",
       "</table>\n",
       "</div>"
      ],
      "text/plain": [
       "   Patient_ID HeartDisease    BMI Smoking AlcoholDrinking Stroke  \\\n",
       "0           0           No  16.60     Yes              No     No   \n",
       "1           1           No  20.34      No              No    Yes   \n",
       "2           2           No  26.58     Yes              No     No   \n",
       "3           3           No  24.21      No              No     No   \n",
       "4           4           No  23.71      No              No     No   \n",
       "\n",
       "   PhysicalHealth  MentalHealth DiffWalking  \n",
       "0             3.0          30.0          No  \n",
       "1             0.0           0.0          No  \n",
       "2            20.0          30.0          No  \n",
       "3             0.0           0.0          No  \n",
       "4            28.0           0.0         Yes  "
      ]
     },
     "execution_count": 38,
     "metadata": {},
     "output_type": "execute_result"
    }
   ],
   "source": [
    "behavioural_data_query_df.head()"
   ]
  },
  {
   "cell_type": "code",
   "execution_count": 39,
   "metadata": {},
   "outputs": [
    {
     "name": "stdout",
     "output_type": "stream",
     "text": [
      "dataframe created successfully........\n"
     ]
    }
   ],
   "source": [
    "import sqlite3\n",
    "\n",
    "#Connecting to sqlite\n",
    "conn = sqlite3.connect('heart_disease.db')\n",
    "\n",
    "#Creating a cursor object using the cursor() method\n",
    "cursor = conn.cursor()\n",
    "\n",
    "# Load the data into a DataFrame\n",
    "disease_correlation_query_df = pd.read_sql_query(\"SELECT * from disease_correlation\", con=engine)\n",
    "#cursor.execute(sql)\n",
    "print(\"dataframe created successfully........\")\n",
    "\n",
    "# Commit your changes in the database\n",
    "conn.commit()\n",
    "\n",
    "#Closing the connection\n",
    "conn.close()\n",
    "\n"
   ]
  },
  {
   "cell_type": "code",
   "execution_count": 40,
   "metadata": {},
   "outputs": [
    {
     "data": {
      "text/html": [
       "<div>\n",
       "<style scoped>\n",
       "    .dataframe tbody tr th:only-of-type {\n",
       "        vertical-align: middle;\n",
       "    }\n",
       "\n",
       "    .dataframe tbody tr th {\n",
       "        vertical-align: top;\n",
       "    }\n",
       "\n",
       "    .dataframe thead th {\n",
       "        text-align: right;\n",
       "    }\n",
       "</style>\n",
       "<table border=\"1\" class=\"dataframe\">\n",
       "  <thead>\n",
       "    <tr style=\"text-align: right;\">\n",
       "      <th></th>\n",
       "      <th>Patient_ID</th>\n",
       "      <th>Diabetic</th>\n",
       "      <th>PhysicalActivity</th>\n",
       "      <th>GenHealth</th>\n",
       "      <th>SleepTime</th>\n",
       "      <th>Asthma</th>\n",
       "      <th>KidneyDisease</th>\n",
       "      <th>SkinCancer</th>\n",
       "    </tr>\n",
       "  </thead>\n",
       "  <tbody>\n",
       "    <tr>\n",
       "      <th>0</th>\n",
       "      <td>0</td>\n",
       "      <td>Yes</td>\n",
       "      <td>Yes</td>\n",
       "      <td>Very good</td>\n",
       "      <td>5</td>\n",
       "      <td>Yes</td>\n",
       "      <td>No</td>\n",
       "      <td>Yes</td>\n",
       "    </tr>\n",
       "    <tr>\n",
       "      <th>1</th>\n",
       "      <td>1</td>\n",
       "      <td>No</td>\n",
       "      <td>Yes</td>\n",
       "      <td>Very good</td>\n",
       "      <td>7</td>\n",
       "      <td>No</td>\n",
       "      <td>No</td>\n",
       "      <td>No</td>\n",
       "    </tr>\n",
       "    <tr>\n",
       "      <th>2</th>\n",
       "      <td>2</td>\n",
       "      <td>Yes</td>\n",
       "      <td>Yes</td>\n",
       "      <td>Fair</td>\n",
       "      <td>8</td>\n",
       "      <td>Yes</td>\n",
       "      <td>No</td>\n",
       "      <td>No</td>\n",
       "    </tr>\n",
       "    <tr>\n",
       "      <th>3</th>\n",
       "      <td>3</td>\n",
       "      <td>No</td>\n",
       "      <td>No</td>\n",
       "      <td>Good</td>\n",
       "      <td>6</td>\n",
       "      <td>No</td>\n",
       "      <td>No</td>\n",
       "      <td>Yes</td>\n",
       "    </tr>\n",
       "    <tr>\n",
       "      <th>4</th>\n",
       "      <td>4</td>\n",
       "      <td>No</td>\n",
       "      <td>Yes</td>\n",
       "      <td>Very good</td>\n",
       "      <td>8</td>\n",
       "      <td>No</td>\n",
       "      <td>No</td>\n",
       "      <td>No</td>\n",
       "    </tr>\n",
       "  </tbody>\n",
       "</table>\n",
       "</div>"
      ],
      "text/plain": [
       "   Patient_ID Diabetic PhysicalActivity  GenHealth  SleepTime Asthma  \\\n",
       "0           0      Yes              Yes  Very good          5    Yes   \n",
       "1           1       No              Yes  Very good          7     No   \n",
       "2           2      Yes              Yes       Fair          8    Yes   \n",
       "3           3       No               No       Good          6     No   \n",
       "4           4       No              Yes  Very good          8     No   \n",
       "\n",
       "  KidneyDisease SkinCancer  \n",
       "0            No        Yes  \n",
       "1            No         No  \n",
       "2            No         No  \n",
       "3            No        Yes  \n",
       "4            No         No  "
      ]
     },
     "execution_count": 40,
     "metadata": {},
     "output_type": "execute_result"
    }
   ],
   "source": [
    "disease_correlation_query_df.head()"
   ]
  },
  {
   "cell_type": "code",
   "execution_count": 41,
   "metadata": {},
   "outputs": [
    {
     "data": {
      "text/plain": [
       "<bound method NDFrame.describe of         Patient_ID Diabetic PhysicalActivity  GenHealth  SleepTime Asthma  \\\n",
       "0                0      Yes              Yes  Very good          5    Yes   \n",
       "1                1       No              Yes  Very good          7     No   \n",
       "2                2      Yes              Yes       Fair          8    Yes   \n",
       "3                3       No               No       Good          6     No   \n",
       "4                4       No              Yes  Very good          8     No   \n",
       "...            ...      ...              ...        ...        ...    ...   \n",
       "319790      319790      Yes               No       Fair          6    Yes   \n",
       "319791      319791       No              Yes  Very good          5    Yes   \n",
       "319792      319792       No              Yes       Good          6     No   \n",
       "319793      319793       No               No       Good         12     No   \n",
       "319794      319794       No              Yes       Good          8     No   \n",
       "\n",
       "       KidneyDisease SkinCancer  \n",
       "0                 No        Yes  \n",
       "1                 No         No  \n",
       "2                 No         No  \n",
       "3                 No        Yes  \n",
       "4                 No         No  \n",
       "...              ...        ...  \n",
       "319790            No         No  \n",
       "319791            No         No  \n",
       "319792            No         No  \n",
       "319793            No         No  \n",
       "319794            No         No  \n",
       "\n",
       "[319795 rows x 8 columns]>"
      ]
     },
     "execution_count": 41,
     "metadata": {},
     "output_type": "execute_result"
    }
   ],
   "source": [
    "disease_correlation_query_df.describe"
   ]
  },
  {
   "cell_type": "code",
   "execution_count": null,
   "metadata": {},
   "outputs": [],
   "source": []
  }
 ],
 "metadata": {
  "kernelspec": {
   "display_name": "PythonData_2",
   "language": "python",
   "name": "pythondata_2"
  },
  "language_info": {
   "codemirror_mode": {
    "name": "ipython",
    "version": 3
   },
   "file_extension": ".py",
   "mimetype": "text/x-python",
   "name": "python",
   "nbconvert_exporter": "python",
   "pygments_lexer": "ipython3",
   "version": "3.8.3"
  }
 },
 "nbformat": 4,
 "nbformat_minor": 4
}
